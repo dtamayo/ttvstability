{
 "cells": [
  {
   "cell_type": "code",
   "execution_count": 39,
   "metadata": {},
   "outputs": [],
   "source": [
    "import rebound\n",
    "import numpy as np\n",
    "import matplotlib.pyplot as plt\n",
    "%matplotlib inline\n",
    "import h5py\n",
    "import pandas as pd\n",
    "from spock import StabilityClassifier"
   ]
  },
  {
   "cell_type": "code",
   "execution_count": 2,
   "metadata": {},
   "outputs": [],
   "source": [
    "def set_timestep(sim,dtFactor):\n",
    "        ps=sim.particles[1:]\n",
    "        Tperi=np.min([p.P * (1-p.e)**1.5 / np.sqrt(1+p.e) for p in ps])\n",
    "        dt = Tperi * dtFactor\n",
    "        sim.dt = dt\n",
    "def set_min_distance(sim,rHillFactor):\n",
    "        ps=sim.particles[1:]\n",
    "        rHill = np.min([p.rhill for p in ps if p.m > 0])\n",
    "        minDist = rHillFactor * rHill\n",
    "        sim.exit_min_distance=minDist"
   ]
  },
  {
   "cell_type": "code",
   "execution_count": 16,
   "metadata": {},
   "outputs": [
    {
     "name": "stdout",
     "output_type": "stream",
     "text": [
      "(250400, 15)\n"
     ]
    }
   ],
   "source": [
    "KepID = 138\n",
    "try:\n",
    "    df = pd.read_csv(\"Kepler-{0}_default_priors.csv\".format(KepID), index_col=0)\n",
    "except:\n",
    "    post_file = \"NBody_MCMC_Posteriors.hdf5\"\n",
    "    post_data = h5py.File(post_file,\"r\")\n",
    "    data = post_data['Kepler-{0}/DefaultPriors/PosteriorSample'.format(KepID)]\n",
    "    npl = data.shape[1]//5\n",
    "    col_heads = []\n",
    "    for i in range(npl):\n",
    "        col_heads += ['mu{}'.format(i),'per{}'.format(i),'h{}'.format(i),'k{}'.format(i),'Tc{}'.format(i)]\n",
    "    df = pd.DataFrame(data=data,columns=col_heads)\n",
    "    print(df.shape)\n",
    "    \n",
    "    for i in range(npl):\n",
    "        h = df['h{}'.format(i)]\n",
    "        k = df['k{}'.format(i)]\n",
    "        per = df['per{}'.format(i)]\n",
    "        Tc = df['Tc{}'.format(i)]\n",
    "        df['pomega{}'.format(i)] = np.arctan2(k,h)\n",
    "        df['e{}'.format(i)] = np.sqrt(h**2 + k**2)\n",
    "        df['mean_long{}'.format(i)] = np.mod(-2 * np.pi * Tc / per,2*np.pi)\n",
    "        \n",
    "    df.to_csv(\"Kepler-{0}_default_priors.csv\".format(KepID))"
   ]
  },
  {
   "cell_type": "code",
   "execution_count": 17,
   "metadata": {},
   "outputs": [
    {
     "data": {
      "text/html": [
       "<div>\n",
       "<style scoped>\n",
       "    .dataframe tbody tr th:only-of-type {\n",
       "        vertical-align: middle;\n",
       "    }\n",
       "\n",
       "    .dataframe tbody tr th {\n",
       "        vertical-align: top;\n",
       "    }\n",
       "\n",
       "    .dataframe thead th {\n",
       "        text-align: right;\n",
       "    }\n",
       "</style>\n",
       "<table border=\"1\" class=\"dataframe\">\n",
       "  <thead>\n",
       "    <tr style=\"text-align: right;\">\n",
       "      <th></th>\n",
       "      <th>mu0</th>\n",
       "      <th>per0</th>\n",
       "      <th>h0</th>\n",
       "      <th>k0</th>\n",
       "      <th>Tc0</th>\n",
       "      <th>mu1</th>\n",
       "      <th>per1</th>\n",
       "      <th>h1</th>\n",
       "      <th>k1</th>\n",
       "      <th>Tc1</th>\n",
       "      <th>...</th>\n",
       "      <th>Tc2</th>\n",
       "      <th>pomega0</th>\n",
       "      <th>e0</th>\n",
       "      <th>mean_long0</th>\n",
       "      <th>pomega1</th>\n",
       "      <th>e1</th>\n",
       "      <th>mean_long1</th>\n",
       "      <th>pomega2</th>\n",
       "      <th>e2</th>\n",
       "      <th>mean_long2</th>\n",
       "    </tr>\n",
       "  </thead>\n",
       "  <tbody>\n",
       "    <tr>\n",
       "      <th>250395</th>\n",
       "      <td>6.276470e-08</td>\n",
       "      <td>10.312646</td>\n",
       "      <td>-0.005490</td>\n",
       "      <td>-0.011076</td>\n",
       "      <td>56.221581</td>\n",
       "      <td>0.000002</td>\n",
       "      <td>13.781053</td>\n",
       "      <td>-0.007618</td>\n",
       "      <td>-0.023574</td>\n",
       "      <td>55.695029</td>\n",
       "      <td>...</td>\n",
       "      <td>58.590159</td>\n",
       "      <td>-2.030991</td>\n",
       "      <td>0.012362</td>\n",
       "      <td>3.444992</td>\n",
       "      <td>-1.883350</td>\n",
       "      <td>0.024774</td>\n",
       "      <td>6.022933</td>\n",
       "      <td>0.297010</td>\n",
       "      <td>0.112843</td>\n",
       "      <td>2.906172</td>\n",
       "    </tr>\n",
       "    <tr>\n",
       "      <th>250396</th>\n",
       "      <td>5.520660e-08</td>\n",
       "      <td>10.312646</td>\n",
       "      <td>0.021851</td>\n",
       "      <td>0.187269</td>\n",
       "      <td>56.306723</td>\n",
       "      <td>0.000002</td>\n",
       "      <td>13.781033</td>\n",
       "      <td>0.015970</td>\n",
       "      <td>0.148730</td>\n",
       "      <td>55.793374</td>\n",
       "      <td>...</td>\n",
       "      <td>58.629197</td>\n",
       "      <td>1.454639</td>\n",
       "      <td>0.188539</td>\n",
       "      <td>3.393116</td>\n",
       "      <td>1.463830</td>\n",
       "      <td>0.149584</td>\n",
       "      <td>5.978058</td>\n",
       "      <td>0.902959</td>\n",
       "      <td>0.200071</td>\n",
       "      <td>2.895494</td>\n",
       "    </tr>\n",
       "    <tr>\n",
       "      <th>250397</th>\n",
       "      <td>1.177300e-07</td>\n",
       "      <td>10.312784</td>\n",
       "      <td>-0.228474</td>\n",
       "      <td>0.256511</td>\n",
       "      <td>55.617878</td>\n",
       "      <td>0.000002</td>\n",
       "      <td>13.781078</td>\n",
       "      <td>-0.199026</td>\n",
       "      <td>0.207599</td>\n",
       "      <td>54.979889</td>\n",
       "      <td>...</td>\n",
       "      <td>57.504890</td>\n",
       "      <td>2.298450</td>\n",
       "      <td>0.343509</td>\n",
       "      <td>3.813263</td>\n",
       "      <td>2.335114</td>\n",
       "      <td>0.287592</td>\n",
       "      <td>0.065846</td>\n",
       "      <td>1.797352</td>\n",
       "      <td>0.222344</td>\n",
       "      <td>3.201414</td>\n",
       "    </tr>\n",
       "    <tr>\n",
       "      <th>250398</th>\n",
       "      <td>4.632724e-08</td>\n",
       "      <td>10.312804</td>\n",
       "      <td>0.010612</td>\n",
       "      <td>0.011735</td>\n",
       "      <td>56.273300</td>\n",
       "      <td>0.000003</td>\n",
       "      <td>13.781016</td>\n",
       "      <td>0.006179</td>\n",
       "      <td>0.000144</td>\n",
       "      <td>55.758010</td>\n",
       "      <td>...</td>\n",
       "      <td>58.504957</td>\n",
       "      <td>0.835596</td>\n",
       "      <td>0.015821</td>\n",
       "      <td>3.414005</td>\n",
       "      <td>0.023287</td>\n",
       "      <td>0.006181</td>\n",
       "      <td>5.994149</td>\n",
       "      <td>0.479481</td>\n",
       "      <td>0.109632</td>\n",
       "      <td>2.929361</td>\n",
       "    </tr>\n",
       "    <tr>\n",
       "      <th>250399</th>\n",
       "      <td>5.976524e-07</td>\n",
       "      <td>10.313214</td>\n",
       "      <td>-0.000613</td>\n",
       "      <td>-0.016810</td>\n",
       "      <td>56.232538</td>\n",
       "      <td>0.000011</td>\n",
       "      <td>13.781160</td>\n",
       "      <td>0.001245</td>\n",
       "      <td>-0.017727</td>\n",
       "      <td>55.733988</td>\n",
       "      <td>...</td>\n",
       "      <td>58.117184</td>\n",
       "      <td>-1.607256</td>\n",
       "      <td>0.016822</td>\n",
       "      <td>3.440202</td>\n",
       "      <td>-1.500679</td>\n",
       "      <td>0.017771</td>\n",
       "      <td>6.005368</td>\n",
       "      <td>0.528138</td>\n",
       "      <td>0.048321</td>\n",
       "      <td>3.035790</td>\n",
       "    </tr>\n",
       "  </tbody>\n",
       "</table>\n",
       "<p>5 rows × 24 columns</p>\n",
       "</div>"
      ],
      "text/plain": [
       "                 mu0       per0        h0        k0        Tc0       mu1  \\\n",
       "250395  6.276470e-08  10.312646 -0.005490 -0.011076  56.221581  0.000002   \n",
       "250396  5.520660e-08  10.312646  0.021851  0.187269  56.306723  0.000002   \n",
       "250397  1.177300e-07  10.312784 -0.228474  0.256511  55.617878  0.000002   \n",
       "250398  4.632724e-08  10.312804  0.010612  0.011735  56.273300  0.000003   \n",
       "250399  5.976524e-07  10.313214 -0.000613 -0.016810  56.232538  0.000011   \n",
       "\n",
       "             per1        h1        k1        Tc1  ...        Tc2   pomega0  \\\n",
       "250395  13.781053 -0.007618 -0.023574  55.695029  ...  58.590159 -2.030991   \n",
       "250396  13.781033  0.015970  0.148730  55.793374  ...  58.629197  1.454639   \n",
       "250397  13.781078 -0.199026  0.207599  54.979889  ...  57.504890  2.298450   \n",
       "250398  13.781016  0.006179  0.000144  55.758010  ...  58.504957  0.835596   \n",
       "250399  13.781160  0.001245 -0.017727  55.733988  ...  58.117184 -1.607256   \n",
       "\n",
       "              e0  mean_long0   pomega1        e1  mean_long1   pomega2  \\\n",
       "250395  0.012362    3.444992 -1.883350  0.024774    6.022933  0.297010   \n",
       "250396  0.188539    3.393116  1.463830  0.149584    5.978058  0.902959   \n",
       "250397  0.343509    3.813263  2.335114  0.287592    0.065846  1.797352   \n",
       "250398  0.015821    3.414005  0.023287  0.006181    5.994149  0.479481   \n",
       "250399  0.016822    3.440202 -1.500679  0.017771    6.005368  0.528138   \n",
       "\n",
       "              e2  mean_long2  \n",
       "250395  0.112843    2.906172  \n",
       "250396  0.200071    2.895494  \n",
       "250397  0.222344    3.201414  \n",
       "250398  0.109632    2.929361  \n",
       "250399  0.048321    3.035790  \n",
       "\n",
       "[5 rows x 24 columns]"
      ]
     },
     "execution_count": 17,
     "metadata": {},
     "output_type": "execute_result"
    }
   ],
   "source": [
    "df.tail()"
   ]
  },
  {
   "cell_type": "code",
   "execution_count": 249,
   "metadata": {},
   "outputs": [],
   "source": [
    "def dfrow_to_sim(row,npl):\n",
    "    sim = rebound.Simulation()\n",
    "    sim.units = ('Msun','days','AU')\n",
    "    sim.add(m=1)\n",
    "    for i in range(npl):\n",
    "        mu = row['mu{}'.format(i)]\n",
    "        per = row['per{}'.format(i)]\n",
    "        e = row['e{}'.format(i)]\n",
    "        mean_long = row['mean_long{}'.format(i)]\n",
    "        pomega = row['pomega{}'.format(i)]\n",
    "        sim.add(m=mu,P=per,e=e,l=mean_long,pomega=pomega,hash=i)\n",
    "    sim.move_to_com()\n",
    "    sim.integrator = 'whfast'\n",
    "    sim.ri_whfast.safe_mode =0\n",
    "    set_timestep(sim,1/30)\n",
    "    set_min_distance(sim,3)\n",
    "    return sim"
   ]
  },
  {
   "cell_type": "code",
   "execution_count": 251,
   "metadata": {},
   "outputs": [],
   "source": [
    "sim = dfrow_to_sim(df.iloc[1],npl)"
   ]
  },
  {
   "cell_type": "code",
   "execution_count": 252,
   "metadata": {},
   "outputs": [
    {
     "data": {
      "text/plain": [
       "4"
      ]
     },
     "execution_count": 252,
     "metadata": {},
     "output_type": "execute_result"
    }
   ],
   "source": [
    "sim.N"
   ]
  },
  {
   "cell_type": "code",
   "execution_count": 253,
   "metadata": {},
   "outputs": [
    {
     "name": "stdout",
     "output_type": "stream",
     "text": [
      "1.3363019070501019\n",
      "1.6755063328665785\n"
     ]
    }
   ],
   "source": [
    "ps = sim.particles\n",
    "print(ps[2].P/ps[1].P)\n",
    "print(ps[3].P/ps[2].P)"
   ]
  },
  {
   "cell_type": "code",
   "execution_count": 254,
   "metadata": {},
   "outputs": [
    {
     "data": {
      "image/png": "[encoded data removed]",
      "text/plain": [
       "<Figure size 360x360 with 1 Axes>"
      ]
     },
     "metadata": {
      "needs_background": "light"
     },
     "output_type": "display_data"
    }
   ],
   "source": [
    "fig = rebound.OrbitPlot(sim)"
   ]
  },
  {
   "cell_type": "code",
   "execution_count": 255,
   "metadata": {},
   "outputs": [],
   "source": [
    "model = StabilityClassifier()"
   ]
  },
  {
   "cell_type": "code",
   "execution_count": 256,
   "metadata": {},
   "outputs": [
    {
     "data": {
      "text/plain": [
       "0.8145148754119873"
      ]
     },
     "execution_count": 256,
     "metadata": {},
     "output_type": "execute_result"
    }
   ],
   "source": [
    "model.predict(sim)"
   ]
  },
  {
   "cell_type": "markdown",
   "metadata": {},
   "source": [
    "j:j-k"
   ]
  },
  {
   "cell_type": "code",
   "execution_count": 259,
   "metadata": {},
   "outputs": [
    {
     "data": {
      "text/plain": [
       "0.06550839859746588"
      ]
     },
     "execution_count": 259,
     "metadata": {},
     "output_type": "execute_result"
    }
   ],
   "source": [
    "from celmech import Andoyer\n",
    "\n",
    "avars = Andoyer.from_Simulation(sim, j=4, k=1, i1=1, i2=2)\n",
    "avars.Z"
   ]
  },
  {
   "cell_type": "code",
   "execution_count": 260,
   "metadata": {},
   "outputs": [
    {
     "data": {
      "text/plain": [
       "0.16021300528254453"
      ]
     },
     "execution_count": 260,
     "metadata": {},
     "output_type": "execute_result"
    }
   ],
   "source": [
    "avars = Andoyer.from_Simulation(sim, j=5, k=2, i1=2, i2=3)\n",
    "avars.Z"
   ]
  },
  {
   "cell_type": "code",
   "execution_count": 257,
   "metadata": {},
   "outputs": [],
   "source": [
    "def varyZ(sim0, Z12, Z23):\n",
    "    ps0 = sim0.particles\n",
    "    sim = rebound.Simulation()\n",
    "    sim.units = ('Msun','days','AU')\n",
    "    sim.add(m=1)\n",
    "    sim.add(m=ps0[1].m, a=ps0[1].a, l=ps0[1].l, e=Z12, pomega=0)\n",
    "    sim.add(m=ps0[2].m, a=ps0[2].a, l=ps0[2].l, e=0, pomega=0)\n",
    "    sim.add(m=ps0[3].m, a=ps0[3].a, l=ps0[3].l, e=Z23, pomega=0)\n",
    "    sim.move_to_com()\n",
    "    sim.integrator = 'whfast'\n",
    "    sim.ri_whfast.safe_mode =0\n",
    "    set_timestep(sim,1/30)\n",
    "    set_min_distance(sim,3)\n",
    "    return sim"
   ]
  },
  {
   "cell_type": "code",
   "execution_count": 258,
   "metadata": {},
   "outputs": [
    {
     "data": {
      "text/plain": [
       "0.33527934551239014"
      ]
     },
     "execution_count": 258,
     "metadata": {},
     "output_type": "execute_result"
    }
   ],
   "source": [
    "sim = dfrow_to_sim(df.iloc[1],npl)\n",
    "sim = varyZ(sim, 0.1, 0.2)\n",
    "model.predict(sim)"
   ]
  },
  {
   "cell_type": "code",
   "execution_count": 162,
   "metadata": {},
   "outputs": [
    {
     "data": {
      "image/png": "[encoded data removed]",
      "text/plain": [
       "<Figure size 360x360 with 1 Axes>"
      ]
     },
     "metadata": {
      "needs_background": "light"
     },
     "output_type": "display_data"
    }
   ],
   "source": [
    "fig = rebound.OrbitPlot(sim)"
   ]
  },
  {
   "cell_type": "code",
   "execution_count": 237,
   "metadata": {},
   "outputs": [
    {
     "data": {
      "image/png": "[encoded data removed]",
      "text/plain": [
       "<Figure size 432x288 with 1 Axes>"
      ]
     },
     "metadata": {
      "needs_background": "light"
     },
     "output_type": "display_data"
    }
   ],
   "source": [
    "e1 = np.linspace(0, 0.2, 3)\n",
    "e3 = np.linspace(0, 0.5, 5)\n",
    "\n",
    "de1 = e1[1]-e1[0]\n",
    "de3 = e3[1]-e3[0]\n",
    "\n",
    "# pcolormesh takes the boundaries of each cell in X and Y, so need to offset by half dX, and add one at end at X[-1]+dX/2\n",
    "e1g = [e - de1/2 for e in e1] + [e1[-1]+de1/2]\n",
    "e3g = [e - de3/2 for e in e3] + [e3[-1]+de3/2]\n",
    "\n",
    "X, Y = np.meshgrid(e1g, e3g)\n",
    "\n",
    "Z = np.zeros((len(e3), len(e1))) # shape = (rows, col) so (Y,X)\n",
    "for i, e1v in enumerate(e1):\n",
    "    for j, e3v in enumerate(e3):\n",
    "        Z[j,i] = e1v + e3v\n",
    "\n",
    "z_min, z_max = -abs(Z).max(), abs(Z).max()\n",
    "\n",
    "fig, ax = plt.subplots()\n",
    "im = ax.pcolormesh(X, Y, Z)"
   ]
  },
  {
   "cell_type": "code",
   "execution_count": 246,
   "metadata": {},
   "outputs": [
    {
     "name": "stdout",
     "output_type": "stream",
     "text": [
      "CPU times: user 1h 11min 19s, sys: 1min 36s, total: 1h 12min 56s\n",
      "Wall time: 15min 56s\n"
     ]
    }
   ],
   "source": [
    "%%time\n",
    "\n",
    "Ne1 = 30\n",
    "Ne3 = 30\n",
    "e1max = 0.5\n",
    "e3max = 0.5\n",
    "\n",
    "e1 = np.linspace(0, e1max, Ne1)\n",
    "e3 = np.linspace(0, e3max, Ne3)\n",
    "\n",
    "de1 = e1[1]-e1[0]\n",
    "de3 = e3[1]-e3[0]\n",
    "\n",
    "# pcolormesh takes the boundaries of each cell in X and Y, so need to offset by half dX, and add one at end at X[-1]+dX/2\n",
    "e1g = [e - de1/2 for e in e1] + [e1[-1]+de1/2]\n",
    "e3g = [e - de3/2 for e in e3] + [e3[-1]+de3/2]\n",
    "\n",
    "X, Y = np.meshgrid(e1g, e3g)\n",
    "\n",
    "Z = np.zeros((Ne3, Ne1)) # shape = (rows, col) so (Y,X)\n",
    "for i, e1v in enumerate(e1):\n",
    "    for j, e3v in enumerate(e3):\n",
    "        sim = dfrow_to_sim(df.iloc[0],npl)\n",
    "        sim = varyZ(sim, e1v, e3v)\n",
    "        Z[j,i] = model.predict(sim)\n",
    "\n",
    "z_min, z_max = -abs(Z).max(), abs(Z).max()"
   ]
  },
  {
   "cell_type": "code",
   "execution_count": 247,
   "metadata": {},
   "outputs": [
    {
     "data": {
      "text/plain": [
       "Text(0, 0.5, 'e3')"
      ]
     },
     "execution_count": 247,
     "metadata": {},
     "output_type": "execute_result"
    },
    {
     "data": {
      "image/png": "[encoded data removed]",
      "text/plain": [
       "<Figure size 432x288 with 2 Axes>"
      ]
     },
     "metadata": {
      "needs_background": "light"
     },
     "output_type": "display_data"
    }
   ],
   "source": [
    "fig, ax = plt.subplots()\n",
    "im = ax.pcolormesh(X, Y, Z, cmap='winter')\n",
    "fig.colorbar(im)\n",
    "ax.set_xlabel('e1')\n",
    "ax.set_ylabel('e3')"
   ]
  }
 ],
 "metadata": {
  "kernelspec": {
   "display_name": "Python 3",
   "language": "python",
   "name": "python3"
  },
  "language_info": {
   "codemirror_mode": {
    "name": "ipython",
    "version": 3
   },
   "file_extension": ".py",
   "mimetype": "text/x-python",
   "name": "python",
   "nbconvert_exporter": "python",
   "pygments_lexer": "ipython3",
   "version": "3.7.3"
  }
 },
 "nbformat": 4,
 "nbformat_minor": 2
}
